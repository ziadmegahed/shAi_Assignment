{
  "cells": [
    {
      "cell_type": "markdown",
      "metadata": {
        "id": "uua1wvw7iQB4"
      },
      "source": [
        "![](logo1.jpg)"
      ]
    },
    {
      "cell_type": "markdown",
      "metadata": {
        "id": "IMnWC3LuifEi"
      },
      "source": [
        "# **shAI Training 2023 | Level 1**\n",
        "\n",
        "## Task #8 (End-to-End ML Project {part_2})"
      ]
    },
    {
      "cell_type": "markdown",
      "metadata": {
        "id": "1rbe_ZnKi-uY"
      },
      "source": [
        "## Welcome to the exercises for reviewing second part of end to end ML project.\n",
        "**Make sure that you read and understand ch2 from the hands-on ML book (page 72 to the end of the chapter ) before start with this notebook.**\n",
        "\n",
        "**If you stuck with anything reread that part from the book and feel free to ask about anything in the messenger group as you go along.**\n",
        "\n",
        " ## Good Luck : )"
      ]
    },
    {
      "cell_type": "markdown",
      "metadata": {
        "id": "zAbRZ0fwfOb4"
      },
      "source": [
        "## first run the following cell for the first part of the project to continue your work"
      ]
    },
    {
      "cell_type": "code",
      "execution_count": 40,
      "metadata": {
        "id": "Q3v160SJfL7U"
      },
      "outputs": [],
      "source": [
        "import numpy as np\n",
        "import pandas as pd\n",
        "import matplotlib.pyplot as plt\n",
        "%matplotlib inline\n",
        "import seaborn as sns\n",
        "from sklearn.model_selection import train_test_split\n",
        "from pandas.plotting import scatter_matrix\n",
        "from sklearn.impute import SimpleImputer\n",
        "from sklearn.preprocessing import OneHotEncoder\n",
        "from sklearn.base import BaseEstimator, TransformerMixin\n",
        "from sklearn.pipeline import Pipeline\n",
        "from sklearn.preprocessing import StandardScaler\n",
        "from sklearn.compose import ColumnTransformer"
      ]
    },
    {
      "cell_type": "code",
      "execution_count": 41,
      "metadata": {
        "id": "ObbhNRgSfu6_"
      },
      "outputs": [],
      "source": [
        "import os\n",
        "import tarfile\n",
        "import urllib\n",
        "DOWNLOAD_ROOT = \"https://raw.githubusercontent.com/ageron/handson-ml2/master/\"\n",
        "HOUSING_PATH = os.path.join(\"datasets\", \"housing\")\n",
        "HOUSING_URL = DOWNLOAD_ROOT + \"datasets/housing/housing.tgz\"\n",
        "\n",
        "def fetch_housing_data(housing_url=HOUSING_URL, housing_path=HOUSING_PATH):\n",
        "    os.makedirs(housing_path, exist_ok=True)\n",
        "    tgz_path = os.path.join(housing_path, \"housing.tgz\")\n",
        "    urllib.request.urlretrieve(housing_url, tgz_path)\n",
        "    housing_tgz = tarfile.open(tgz_path)\n",
        "    housing_tgz.extractall(path=housing_path)\n",
        "    housing_tgz.close()\n",
        "\n",
        "def load_housing_data(housing_path=HOUSING_PATH):\n",
        "   csv_path = os.path.join(housing_path, \"housing.csv\")\n",
        "   return pd.read_csv(csv_path)\n",
        "\n",
        "fetch_housing_data()\n",
        "housing = load_housing_data()\n",
        "\n",
        "rooms_ix, bedrooms_ix, population_ix, household_ix = [\n",
        "    list(housing.columns).index(col)\n",
        "    for col in (\"total_rooms\", \"total_bedrooms\", \"population\", \"households\")]\n",
        "\n",
        "class CombinedAttributesAdder(BaseEstimator, TransformerMixin):\n",
        "    def __init__(self, add_bedrooms_per_room = True):\n",
        "        self.add_bedrooms_per_room = add_bedrooms_per_room\n",
        "    def fit(self, X, y=None):\n",
        "        return self  # nothing else to do\n",
        "    def transform(self, X, y=None):\n",
        "        rooms_per_household = X[:, rooms_ix] / X[:, household_ix]\n",
        "        population_per_household = X[:, population_ix] / X[:, household_ix]\n",
        "        if self.add_bedrooms_per_room:\n",
        "            bedrooms_per_room = X[:, bedrooms_ix] / X[:, rooms_ix]\n",
        "            return np.c_[X, rooms_per_household, population_per_household,\n",
        "                         bedrooms_per_room]\n",
        "        else:\n",
        "            return np.c_[X, rooms_per_household, population_per_household]\n",
        "\n",
        "train_set, test_set = train_test_split(housing, test_size=0.2, random_state=42)\n",
        "housing = train_set.drop(\"median_house_value\", axis=1)\n",
        "housing_labels = train_set[\"median_house_value\"].copy()\n",
        "\n",
        "housing_num = housing.drop(\"ocean_proximity\", axis=1)\n",
        "num_attribs = list(housing_num)\n",
        "cat_attribs = [\"ocean_proximity\"]\n",
        "\n",
        "num_pipeline = Pipeline([\n",
        " ('imputer', SimpleImputer(strategy=\"median\")),\n",
        " ('attribs_adder', CombinedAttributesAdder()),\n",
        " ('std_scaler', StandardScaler())])\n",
        "\n",
        "full_pipeline = ColumnTransformer([\n",
        " (\"num\", num_pipeline, num_attribs),\n",
        " (\"cat\", OneHotEncoder(), cat_attribs)])\n",
        "\n",
        "housing_prepared = full_pipeline.fit_transform(housing)"
      ]
    },
    {
      "cell_type": "code",
      "execution_count": 42,
      "metadata": {
        "colab": {
          "base_uri": "https://localhost:8080/"
        },
        "id": "cbANBYGTcDrB",
        "outputId": "e4608243-7ca3-4dd5-beca-0ac7868c69ab"
      },
      "outputs": [
        {
          "data": {
            "text/plain": [
              "array([[ 1.27258656, -1.3728112 ,  0.34849025, ...,  0.        ,\n",
              "         0.        ,  1.        ],\n",
              "       [ 0.70916212, -0.87669601,  1.61811813, ...,  0.        ,\n",
              "         0.        ,  1.        ],\n",
              "       [-0.44760309, -0.46014647, -1.95271028, ...,  0.        ,\n",
              "         0.        ,  1.        ],\n",
              "       ...,\n",
              "       [ 0.59946887, -0.75500738,  0.58654547, ...,  0.        ,\n",
              "         0.        ,  0.        ],\n",
              "       [-1.18553953,  0.90651045, -1.07984112, ...,  0.        ,\n",
              "         0.        ,  0.        ],\n",
              "       [-1.41489815,  0.99543676,  1.85617335, ...,  0.        ,\n",
              "         1.        ,  0.        ]])"
            ]
          },
          "execution_count": 42,
          "metadata": {},
          "output_type": "execute_result"
        }
      ],
      "source": [
        "housing_prepared"
      ]
    },
    {
      "cell_type": "code",
      "execution_count": 43,
      "metadata": {
        "colab": {
          "base_uri": "https://localhost:8080/",
          "height": 439
        },
        "id": "-cIjKV__kY21",
        "outputId": "7e4ba7b4-da6a-4707-86fc-4da40844946d"
      },
      "outputs": [
        {
          "data": {
            "application/vnd.google.colaboratory.intrinsic+json": {
              "summary": "{\n  \"name\": \"housing\",\n  \"rows\": 16512,\n  \"fields\": [\n    {\n      \"column\": \"longitude\",\n      \"properties\": {\n        \"dtype\": \"number\",\n        \"std\": 2.0056535406966307,\n        \"min\": -124.35,\n        \"max\": -114.31,\n        \"num_unique_values\": 833,\n        \"samples\": [\n          -116.51,\n          -123.03,\n          -117.21\n        ],\n        \"semantic_type\": \"\",\n        \"description\": \"\"\n      }\n    },\n    {\n      \"column\": \"latitude\",\n      \"properties\": {\n        \"dtype\": \"number\",\n        \"std\": 2.136665296399592,\n        \"min\": 32.55,\n        \"max\": 41.95,\n        \"num_unique_values\": 845,\n        \"samples\": [\n          37.12,\n          37.44,\n          34.87\n        ],\n        \"semantic_type\": \"\",\n        \"description\": \"\"\n      }\n    },\n    {\n      \"column\": \"housing_median_age\",\n      \"properties\": {\n        \"dtype\": \"number\",\n        \"std\": 12.602499352253918,\n        \"min\": 1.0,\n        \"max\": 52.0,\n        \"num_unique_values\": 52,\n        \"samples\": [\n          15.0,\n          38.0,\n          51.0\n        ],\n        \"semantic_type\": \"\",\n        \"description\": \"\"\n      }\n    },\n    {\n      \"column\": \"total_rooms\",\n      \"properties\": {\n        \"dtype\": \"number\",\n        \"std\": 2174.646743636786,\n        \"min\": 2.0,\n        \"max\": 39320.0,\n        \"num_unique_values\": 5470,\n        \"samples\": [\n          2256.0,\n          677.0,\n          2973.0\n        ],\n        \"semantic_type\": \"\",\n        \"description\": \"\"\n      }\n    },\n    {\n      \"column\": \"total_bedrooms\",\n      \"properties\": {\n        \"dtype\": \"number\",\n        \"std\": 419.0070958700484,\n        \"min\": 1.0,\n        \"max\": 6445.0,\n        \"num_unique_values\": 1816,\n        \"samples\": [\n          1415.0,\n          118.0,\n          1624.0\n        ],\n        \"semantic_type\": \"\",\n        \"description\": \"\"\n      }\n    },\n    {\n      \"column\": \"population\",\n      \"properties\": {\n        \"dtype\": \"number\",\n        \"std\": 1137.056379781029,\n        \"min\": 3.0,\n        \"max\": 35682.0,\n        \"num_unique_values\": 3639,\n        \"samples\": [\n          3164.0,\n          917.0,\n          202.0\n        ],\n        \"semantic_type\": \"\",\n        \"description\": \"\"\n      }\n    },\n    {\n      \"column\": \"households\",\n      \"properties\": {\n        \"dtype\": \"number\",\n        \"std\": 380.96796387145355,\n        \"min\": 1.0,\n        \"max\": 6082.0,\n        \"num_unique_values\": 1706,\n        \"samples\": [\n          541.0,\n          1074.0,\n          3933.0\n        ],\n        \"semantic_type\": \"\",\n        \"description\": \"\"\n      }\n    },\n    {\n      \"column\": \"median_income\",\n      \"properties\": {\n        \"dtype\": \"number\",\n        \"std\": 1.9042939225591973,\n        \"min\": 0.4999,\n        \"max\": 15.0001,\n        \"num_unique_values\": 10932,\n        \"samples\": [\n          5.7409,\n          5.482,\n          5.0049\n        ],\n        \"semantic_type\": \"\",\n        \"description\": \"\"\n      }\n    },\n    {\n      \"column\": \"ocean_proximity\",\n      \"properties\": {\n        \"dtype\": \"category\",\n        \"num_unique_values\": 5,\n        \"samples\": [\n          \"INLAND\",\n          \"ISLAND\",\n          \"<1H OCEAN\"\n        ],\n        \"semantic_type\": \"\",\n        \"description\": \"\"\n      }\n    }\n  ]\n}",
              "type": "dataframe",
              "variable_name": "housing"
            },
            "text/html": [
              "\n",
              "  <div id=\"df-b85ea6e8-c32b-4454-a014-7545a745b442\" class=\"colab-df-container\">\n",
              "    <div>\n",
              "<style scoped>\n",
              "    .dataframe tbody tr th:only-of-type {\n",
              "        vertical-align: middle;\n",
              "    }\n",
              "\n",
              "    .dataframe tbody tr th {\n",
              "        vertical-align: top;\n",
              "    }\n",
              "\n",
              "    .dataframe thead th {\n",
              "        text-align: right;\n",
              "    }\n",
              "</style>\n",
              "<table border=\"1\" class=\"dataframe\">\n",
              "  <thead>\n",
              "    <tr style=\"text-align: right;\">\n",
              "      <th></th>\n",
              "      <th>longitude</th>\n",
              "      <th>latitude</th>\n",
              "      <th>housing_median_age</th>\n",
              "      <th>total_rooms</th>\n",
              "      <th>total_bedrooms</th>\n",
              "      <th>population</th>\n",
              "      <th>households</th>\n",
              "      <th>median_income</th>\n",
              "      <th>ocean_proximity</th>\n",
              "    </tr>\n",
              "  </thead>\n",
              "  <tbody>\n",
              "    <tr>\n",
              "      <th>14196</th>\n",
              "      <td>-117.03</td>\n",
              "      <td>32.71</td>\n",
              "      <td>33.0</td>\n",
              "      <td>3126.0</td>\n",
              "      <td>627.0</td>\n",
              "      <td>2300.0</td>\n",
              "      <td>623.0</td>\n",
              "      <td>3.2596</td>\n",
              "      <td>NEAR OCEAN</td>\n",
              "    </tr>\n",
              "    <tr>\n",
              "      <th>8267</th>\n",
              "      <td>-118.16</td>\n",
              "      <td>33.77</td>\n",
              "      <td>49.0</td>\n",
              "      <td>3382.0</td>\n",
              "      <td>787.0</td>\n",
              "      <td>1314.0</td>\n",
              "      <td>756.0</td>\n",
              "      <td>3.8125</td>\n",
              "      <td>NEAR OCEAN</td>\n",
              "    </tr>\n",
              "    <tr>\n",
              "      <th>17445</th>\n",
              "      <td>-120.48</td>\n",
              "      <td>34.66</td>\n",
              "      <td>4.0</td>\n",
              "      <td>1897.0</td>\n",
              "      <td>331.0</td>\n",
              "      <td>915.0</td>\n",
              "      <td>336.0</td>\n",
              "      <td>4.1563</td>\n",
              "      <td>NEAR OCEAN</td>\n",
              "    </tr>\n",
              "    <tr>\n",
              "      <th>14265</th>\n",
              "      <td>-117.11</td>\n",
              "      <td>32.69</td>\n",
              "      <td>36.0</td>\n",
              "      <td>1421.0</td>\n",
              "      <td>367.0</td>\n",
              "      <td>1418.0</td>\n",
              "      <td>355.0</td>\n",
              "      <td>1.9425</td>\n",
              "      <td>NEAR OCEAN</td>\n",
              "    </tr>\n",
              "    <tr>\n",
              "      <th>2271</th>\n",
              "      <td>-119.80</td>\n",
              "      <td>36.78</td>\n",
              "      <td>43.0</td>\n",
              "      <td>2382.0</td>\n",
              "      <td>431.0</td>\n",
              "      <td>874.0</td>\n",
              "      <td>380.0</td>\n",
              "      <td>3.5542</td>\n",
              "      <td>INLAND</td>\n",
              "    </tr>\n",
              "    <tr>\n",
              "      <th>...</th>\n",
              "      <td>...</td>\n",
              "      <td>...</td>\n",
              "      <td>...</td>\n",
              "      <td>...</td>\n",
              "      <td>...</td>\n",
              "      <td>...</td>\n",
              "      <td>...</td>\n",
              "      <td>...</td>\n",
              "      <td>...</td>\n",
              "    </tr>\n",
              "    <tr>\n",
              "      <th>11284</th>\n",
              "      <td>-117.96</td>\n",
              "      <td>33.78</td>\n",
              "      <td>35.0</td>\n",
              "      <td>1330.0</td>\n",
              "      <td>201.0</td>\n",
              "      <td>658.0</td>\n",
              "      <td>217.0</td>\n",
              "      <td>6.3700</td>\n",
              "      <td>&lt;1H OCEAN</td>\n",
              "    </tr>\n",
              "    <tr>\n",
              "      <th>11964</th>\n",
              "      <td>-117.43</td>\n",
              "      <td>34.02</td>\n",
              "      <td>33.0</td>\n",
              "      <td>3084.0</td>\n",
              "      <td>570.0</td>\n",
              "      <td>1753.0</td>\n",
              "      <td>449.0</td>\n",
              "      <td>3.0500</td>\n",
              "      <td>INLAND</td>\n",
              "    </tr>\n",
              "    <tr>\n",
              "      <th>5390</th>\n",
              "      <td>-118.38</td>\n",
              "      <td>34.03</td>\n",
              "      <td>36.0</td>\n",
              "      <td>2101.0</td>\n",
              "      <td>569.0</td>\n",
              "      <td>1756.0</td>\n",
              "      <td>527.0</td>\n",
              "      <td>2.9344</td>\n",
              "      <td>&lt;1H OCEAN</td>\n",
              "    </tr>\n",
              "    <tr>\n",
              "      <th>860</th>\n",
              "      <td>-121.96</td>\n",
              "      <td>37.58</td>\n",
              "      <td>15.0</td>\n",
              "      <td>3575.0</td>\n",
              "      <td>597.0</td>\n",
              "      <td>1777.0</td>\n",
              "      <td>559.0</td>\n",
              "      <td>5.7192</td>\n",
              "      <td>&lt;1H OCEAN</td>\n",
              "    </tr>\n",
              "    <tr>\n",
              "      <th>15795</th>\n",
              "      <td>-122.42</td>\n",
              "      <td>37.77</td>\n",
              "      <td>52.0</td>\n",
              "      <td>4226.0</td>\n",
              "      <td>1315.0</td>\n",
              "      <td>2619.0</td>\n",
              "      <td>1242.0</td>\n",
              "      <td>2.5755</td>\n",
              "      <td>NEAR BAY</td>\n",
              "    </tr>\n",
              "  </tbody>\n",
              "</table>\n",
              "<p>16512 rows × 9 columns</p>\n",
              "</div>\n",
              "    <div class=\"colab-df-buttons\">\n",
              "\n",
              "  <div class=\"colab-df-container\">\n",
              "    <button class=\"colab-df-convert\" onclick=\"convertToInteractive('df-b85ea6e8-c32b-4454-a014-7545a745b442')\"\n",
              "            title=\"Convert this dataframe to an interactive table.\"\n",
              "            style=\"display:none;\">\n",
              "\n",
              "  <svg xmlns=\"http://www.w3.org/2000/svg\" height=\"24px\" viewBox=\"0 -960 960 960\">\n",
              "    <path d=\"M120-120v-720h720v720H120Zm60-500h600v-160H180v160Zm220 220h160v-160H400v160Zm0 220h160v-160H400v160ZM180-400h160v-160H180v160Zm440 0h160v-160H620v160ZM180-180h160v-160H180v160Zm440 0h160v-160H620v160Z\"/>\n",
              "  </svg>\n",
              "    </button>\n",
              "\n",
              "  <style>\n",
              "    .colab-df-container {\n",
              "      display:flex;\n",
              "      gap: 12px;\n",
              "    }\n",
              "\n",
              "    .colab-df-convert {\n",
              "      background-color: #E8F0FE;\n",
              "      border: none;\n",
              "      border-radius: 50%;\n",
              "      cursor: pointer;\n",
              "      display: none;\n",
              "      fill: #1967D2;\n",
              "      height: 32px;\n",
              "      padding: 0 0 0 0;\n",
              "      width: 32px;\n",
              "    }\n",
              "\n",
              "    .colab-df-convert:hover {\n",
              "      background-color: #E2EBFA;\n",
              "      box-shadow: 0px 1px 2px rgba(60, 64, 67, 0.3), 0px 1px 3px 1px rgba(60, 64, 67, 0.15);\n",
              "      fill: #174EA6;\n",
              "    }\n",
              "\n",
              "    .colab-df-buttons div {\n",
              "      margin-bottom: 4px;\n",
              "    }\n",
              "\n",
              "    [theme=dark] .colab-df-convert {\n",
              "      background-color: #3B4455;\n",
              "      fill: #D2E3FC;\n",
              "    }\n",
              "\n",
              "    [theme=dark] .colab-df-convert:hover {\n",
              "      background-color: #434B5C;\n",
              "      box-shadow: 0px 1px 3px 1px rgba(0, 0, 0, 0.15);\n",
              "      filter: drop-shadow(0px 1px 2px rgba(0, 0, 0, 0.3));\n",
              "      fill: #FFFFFF;\n",
              "    }\n",
              "  </style>\n",
              "\n",
              "    <script>\n",
              "      const buttonEl =\n",
              "        document.querySelector('#df-b85ea6e8-c32b-4454-a014-7545a745b442 button.colab-df-convert');\n",
              "      buttonEl.style.display =\n",
              "        google.colab.kernel.accessAllowed ? 'block' : 'none';\n",
              "\n",
              "      async function convertToInteractive(key) {\n",
              "        const element = document.querySelector('#df-b85ea6e8-c32b-4454-a014-7545a745b442');\n",
              "        const dataTable =\n",
              "          await google.colab.kernel.invokeFunction('convertToInteractive',\n",
              "                                                    [key], {});\n",
              "        if (!dataTable) return;\n",
              "\n",
              "        const docLinkHtml = 'Like what you see? Visit the ' +\n",
              "          '<a target=\"_blank\" href=https://colab.research.google.com/notebooks/data_table.ipynb>data table notebook</a>'\n",
              "          + ' to learn more about interactive tables.';\n",
              "        element.innerHTML = '';\n",
              "        dataTable['output_type'] = 'display_data';\n",
              "        await google.colab.output.renderOutput(dataTable, element);\n",
              "        const docLink = document.createElement('div');\n",
              "        docLink.innerHTML = docLinkHtml;\n",
              "        element.appendChild(docLink);\n",
              "      }\n",
              "    </script>\n",
              "  </div>\n",
              "\n",
              "\n",
              "<div id=\"df-98717e99-dca8-4610-b790-52021f0cb4b9\">\n",
              "  <button class=\"colab-df-quickchart\" onclick=\"quickchart('df-98717e99-dca8-4610-b790-52021f0cb4b9')\"\n",
              "            title=\"Suggest charts\"\n",
              "            style=\"display:none;\">\n",
              "\n",
              "<svg xmlns=\"http://www.w3.org/2000/svg\" height=\"24px\"viewBox=\"0 0 24 24\"\n",
              "     width=\"24px\">\n",
              "    <g>\n",
              "        <path d=\"M19 3H5c-1.1 0-2 .9-2 2v14c0 1.1.9 2 2 2h14c1.1 0 2-.9 2-2V5c0-1.1-.9-2-2-2zM9 17H7v-7h2v7zm4 0h-2V7h2v10zm4 0h-2v-4h2v4z\"/>\n",
              "    </g>\n",
              "</svg>\n",
              "  </button>\n",
              "\n",
              "<style>\n",
              "  .colab-df-quickchart {\n",
              "      --bg-color: #E8F0FE;\n",
              "      --fill-color: #1967D2;\n",
              "      --hover-bg-color: #E2EBFA;\n",
              "      --hover-fill-color: #174EA6;\n",
              "      --disabled-fill-color: #AAA;\n",
              "      --disabled-bg-color: #DDD;\n",
              "  }\n",
              "\n",
              "  [theme=dark] .colab-df-quickchart {\n",
              "      --bg-color: #3B4455;\n",
              "      --fill-color: #D2E3FC;\n",
              "      --hover-bg-color: #434B5C;\n",
              "      --hover-fill-color: #FFFFFF;\n",
              "      --disabled-bg-color: #3B4455;\n",
              "      --disabled-fill-color: #666;\n",
              "  }\n",
              "\n",
              "  .colab-df-quickchart {\n",
              "    background-color: var(--bg-color);\n",
              "    border: none;\n",
              "    border-radius: 50%;\n",
              "    cursor: pointer;\n",
              "    display: none;\n",
              "    fill: var(--fill-color);\n",
              "    height: 32px;\n",
              "    padding: 0;\n",
              "    width: 32px;\n",
              "  }\n",
              "\n",
              "  .colab-df-quickchart:hover {\n",
              "    background-color: var(--hover-bg-color);\n",
              "    box-shadow: 0 1px 2px rgba(60, 64, 67, 0.3), 0 1px 3px 1px rgba(60, 64, 67, 0.15);\n",
              "    fill: var(--button-hover-fill-color);\n",
              "  }\n",
              "\n",
              "  .colab-df-quickchart-complete:disabled,\n",
              "  .colab-df-quickchart-complete:disabled:hover {\n",
              "    background-color: var(--disabled-bg-color);\n",
              "    fill: var(--disabled-fill-color);\n",
              "    box-shadow: none;\n",
              "  }\n",
              "\n",
              "  .colab-df-spinner {\n",
              "    border: 2px solid var(--fill-color);\n",
              "    border-color: transparent;\n",
              "    border-bottom-color: var(--fill-color);\n",
              "    animation:\n",
              "      spin 1s steps(1) infinite;\n",
              "  }\n",
              "\n",
              "  @keyframes spin {\n",
              "    0% {\n",
              "      border-color: transparent;\n",
              "      border-bottom-color: var(--fill-color);\n",
              "      border-left-color: var(--fill-color);\n",
              "    }\n",
              "    20% {\n",
              "      border-color: transparent;\n",
              "      border-left-color: var(--fill-color);\n",
              "      border-top-color: var(--fill-color);\n",
              "    }\n",
              "    30% {\n",
              "      border-color: transparent;\n",
              "      border-left-color: var(--fill-color);\n",
              "      border-top-color: var(--fill-color);\n",
              "      border-right-color: var(--fill-color);\n",
              "    }\n",
              "    40% {\n",
              "      border-color: transparent;\n",
              "      border-right-color: var(--fill-color);\n",
              "      border-top-color: var(--fill-color);\n",
              "    }\n",
              "    60% {\n",
              "      border-color: transparent;\n",
              "      border-right-color: var(--fill-color);\n",
              "    }\n",
              "    80% {\n",
              "      border-color: transparent;\n",
              "      border-right-color: var(--fill-color);\n",
              "      border-bottom-color: var(--fill-color);\n",
              "    }\n",
              "    90% {\n",
              "      border-color: transparent;\n",
              "      border-bottom-color: var(--fill-color);\n",
              "    }\n",
              "  }\n",
              "</style>\n",
              "\n",
              "  <script>\n",
              "    async function quickchart(key) {\n",
              "      const quickchartButtonEl =\n",
              "        document.querySelector('#' + key + ' button');\n",
              "      quickchartButtonEl.disabled = true;  // To prevent multiple clicks.\n",
              "      quickchartButtonEl.classList.add('colab-df-spinner');\n",
              "      try {\n",
              "        const charts = await google.colab.kernel.invokeFunction(\n",
              "            'suggestCharts', [key], {});\n",
              "      } catch (error) {\n",
              "        console.error('Error during call to suggestCharts:', error);\n",
              "      }\n",
              "      quickchartButtonEl.classList.remove('colab-df-spinner');\n",
              "      quickchartButtonEl.classList.add('colab-df-quickchart-complete');\n",
              "    }\n",
              "    (() => {\n",
              "      let quickchartButtonEl =\n",
              "        document.querySelector('#df-98717e99-dca8-4610-b790-52021f0cb4b9 button');\n",
              "      quickchartButtonEl.style.display =\n",
              "        google.colab.kernel.accessAllowed ? 'block' : 'none';\n",
              "    })();\n",
              "  </script>\n",
              "</div>\n",
              "\n",
              "  <div id=\"id_98c15ad0-f532-4f23-87b9-a4cde67b693e\">\n",
              "    <style>\n",
              "      .colab-df-generate {\n",
              "        background-color: #E8F0FE;\n",
              "        border: none;\n",
              "        border-radius: 50%;\n",
              "        cursor: pointer;\n",
              "        display: none;\n",
              "        fill: #1967D2;\n",
              "        height: 32px;\n",
              "        padding: 0 0 0 0;\n",
              "        width: 32px;\n",
              "      }\n",
              "\n",
              "      .colab-df-generate:hover {\n",
              "        background-color: #E2EBFA;\n",
              "        box-shadow: 0px 1px 2px rgba(60, 64, 67, 0.3), 0px 1px 3px 1px rgba(60, 64, 67, 0.15);\n",
              "        fill: #174EA6;\n",
              "      }\n",
              "\n",
              "      [theme=dark] .colab-df-generate {\n",
              "        background-color: #3B4455;\n",
              "        fill: #D2E3FC;\n",
              "      }\n",
              "\n",
              "      [theme=dark] .colab-df-generate:hover {\n",
              "        background-color: #434B5C;\n",
              "        box-shadow: 0px 1px 3px 1px rgba(0, 0, 0, 0.15);\n",
              "        filter: drop-shadow(0px 1px 2px rgba(0, 0, 0, 0.3));\n",
              "        fill: #FFFFFF;\n",
              "      }\n",
              "    </style>\n",
              "    <button class=\"colab-df-generate\" onclick=\"generateWithVariable('housing')\"\n",
              "            title=\"Generate code using this dataframe.\"\n",
              "            style=\"display:none;\">\n",
              "\n",
              "  <svg xmlns=\"http://www.w3.org/2000/svg\" height=\"24px\"viewBox=\"0 0 24 24\"\n",
              "       width=\"24px\">\n",
              "    <path d=\"M7,19H8.4L18.45,9,17,7.55,7,17.6ZM5,21V16.75L18.45,3.32a2,2,0,0,1,2.83,0l1.4,1.43a1.91,1.91,0,0,1,.58,1.4,1.91,1.91,0,0,1-.58,1.4L9.25,21ZM18.45,9,17,7.55Zm-12,3A5.31,5.31,0,0,0,4.9,8.1,5.31,5.31,0,0,0,1,6.5,5.31,5.31,0,0,0,4.9,4.9,5.31,5.31,0,0,0,6.5,1,5.31,5.31,0,0,0,8.1,4.9,5.31,5.31,0,0,0,12,6.5,5.46,5.46,0,0,0,6.5,12Z\"/>\n",
              "  </svg>\n",
              "    </button>\n",
              "    <script>\n",
              "      (() => {\n",
              "      const buttonEl =\n",
              "        document.querySelector('#id_98c15ad0-f532-4f23-87b9-a4cde67b693e button.colab-df-generate');\n",
              "      buttonEl.style.display =\n",
              "        google.colab.kernel.accessAllowed ? 'block' : 'none';\n",
              "\n",
              "      buttonEl.onclick = () => {\n",
              "        google.colab.notebook.generateWithVariable('housing');\n",
              "      }\n",
              "      })();\n",
              "    </script>\n",
              "  </div>\n",
              "\n",
              "    </div>\n",
              "  </div>\n"
            ],
            "text/plain": [
              "       longitude  latitude  housing_median_age  total_rooms  total_bedrooms  \\\n",
              "14196    -117.03     32.71                33.0       3126.0           627.0   \n",
              "8267     -118.16     33.77                49.0       3382.0           787.0   \n",
              "17445    -120.48     34.66                 4.0       1897.0           331.0   \n",
              "14265    -117.11     32.69                36.0       1421.0           367.0   \n",
              "2271     -119.80     36.78                43.0       2382.0           431.0   \n",
              "...          ...       ...                 ...          ...             ...   \n",
              "11284    -117.96     33.78                35.0       1330.0           201.0   \n",
              "11964    -117.43     34.02                33.0       3084.0           570.0   \n",
              "5390     -118.38     34.03                36.0       2101.0           569.0   \n",
              "860      -121.96     37.58                15.0       3575.0           597.0   \n",
              "15795    -122.42     37.77                52.0       4226.0          1315.0   \n",
              "\n",
              "       population  households  median_income ocean_proximity  \n",
              "14196      2300.0       623.0         3.2596      NEAR OCEAN  \n",
              "8267       1314.0       756.0         3.8125      NEAR OCEAN  \n",
              "17445       915.0       336.0         4.1563      NEAR OCEAN  \n",
              "14265      1418.0       355.0         1.9425      NEAR OCEAN  \n",
              "2271        874.0       380.0         3.5542          INLAND  \n",
              "...           ...         ...            ...             ...  \n",
              "11284       658.0       217.0         6.3700       <1H OCEAN  \n",
              "11964      1753.0       449.0         3.0500          INLAND  \n",
              "5390       1756.0       527.0         2.9344       <1H OCEAN  \n",
              "860        1777.0       559.0         5.7192       <1H OCEAN  \n",
              "15795      2619.0      1242.0         2.5755        NEAR BAY  \n",
              "\n",
              "[16512 rows x 9 columns]"
            ]
          },
          "execution_count": 43,
          "metadata": {},
          "output_type": "execute_result"
        }
      ],
      "source": [
        "housing"
      ]
    },
    {
      "cell_type": "markdown",
      "metadata": {
        "id": "wa6vPfm6jxsF"
      },
      "source": [
        "# 1- Select and Train a Model\n",
        "\n",
        "# Let’s first train a LinearRegression model"
      ]
    },
    {
      "cell_type": "code",
      "execution_count": 44,
      "metadata": {
        "colab": {
          "base_uri": "https://localhost:8080/",
          "height": 74
        },
        "id": "JCl0ZYDRjGz_",
        "outputId": "9149f43e-4aee-4708-eb05-c261829799ce"
      },
      "outputs": [
        {
          "data": {
            "text/html": [
              "<style>#sk-container-id-4 {color: black;background-color: white;}#sk-container-id-4 pre{padding: 0;}#sk-container-id-4 div.sk-toggleable {background-color: white;}#sk-container-id-4 label.sk-toggleable__label {cursor: pointer;display: block;width: 100%;margin-bottom: 0;padding: 0.3em;box-sizing: border-box;text-align: center;}#sk-container-id-4 label.sk-toggleable__label-arrow:before {content: \"▸\";float: left;margin-right: 0.25em;color: #696969;}#sk-container-id-4 label.sk-toggleable__label-arrow:hover:before {color: black;}#sk-container-id-4 div.sk-estimator:hover label.sk-toggleable__label-arrow:before {color: black;}#sk-container-id-4 div.sk-toggleable__content {max-height: 0;max-width: 0;overflow: hidden;text-align: left;background-color: #f0f8ff;}#sk-container-id-4 div.sk-toggleable__content pre {margin: 0.2em;color: black;border-radius: 0.25em;background-color: #f0f8ff;}#sk-container-id-4 input.sk-toggleable__control:checked~div.sk-toggleable__content {max-height: 200px;max-width: 100%;overflow: auto;}#sk-container-id-4 input.sk-toggleable__control:checked~label.sk-toggleable__label-arrow:before {content: \"▾\";}#sk-container-id-4 div.sk-estimator input.sk-toggleable__control:checked~label.sk-toggleable__label {background-color: #d4ebff;}#sk-container-id-4 div.sk-label input.sk-toggleable__control:checked~label.sk-toggleable__label {background-color: #d4ebff;}#sk-container-id-4 input.sk-hidden--visually {border: 0;clip: rect(1px 1px 1px 1px);clip: rect(1px, 1px, 1px, 1px);height: 1px;margin: -1px;overflow: hidden;padding: 0;position: absolute;width: 1px;}#sk-container-id-4 div.sk-estimator {font-family: monospace;background-color: #f0f8ff;border: 1px dotted black;border-radius: 0.25em;box-sizing: border-box;margin-bottom: 0.5em;}#sk-container-id-4 div.sk-estimator:hover {background-color: #d4ebff;}#sk-container-id-4 div.sk-parallel-item::after {content: \"\";width: 100%;border-bottom: 1px solid gray;flex-grow: 1;}#sk-container-id-4 div.sk-label:hover label.sk-toggleable__label {background-color: #d4ebff;}#sk-container-id-4 div.sk-serial::before {content: \"\";position: absolute;border-left: 1px solid gray;box-sizing: border-box;top: 0;bottom: 0;left: 50%;z-index: 0;}#sk-container-id-4 div.sk-serial {display: flex;flex-direction: column;align-items: center;background-color: white;padding-right: 0.2em;padding-left: 0.2em;position: relative;}#sk-container-id-4 div.sk-item {position: relative;z-index: 1;}#sk-container-id-4 div.sk-parallel {display: flex;align-items: stretch;justify-content: center;background-color: white;position: relative;}#sk-container-id-4 div.sk-item::before, #sk-container-id-4 div.sk-parallel-item::before {content: \"\";position: absolute;border-left: 1px solid gray;box-sizing: border-box;top: 0;bottom: 0;left: 50%;z-index: -1;}#sk-container-id-4 div.sk-parallel-item {display: flex;flex-direction: column;z-index: 1;position: relative;background-color: white;}#sk-container-id-4 div.sk-parallel-item:first-child::after {align-self: flex-end;width: 50%;}#sk-container-id-4 div.sk-parallel-item:last-child::after {align-self: flex-start;width: 50%;}#sk-container-id-4 div.sk-parallel-item:only-child::after {width: 0;}#sk-container-id-4 div.sk-dashed-wrapped {border: 1px dashed gray;margin: 0 0.4em 0.5em 0.4em;box-sizing: border-box;padding-bottom: 0.4em;background-color: white;}#sk-container-id-4 div.sk-label label {font-family: monospace;font-weight: bold;display: inline-block;line-height: 1.2em;}#sk-container-id-4 div.sk-label-container {text-align: center;}#sk-container-id-4 div.sk-container {/* jupyter's `normalize.less` sets `[hidden] { display: none; }` but bootstrap.min.css set `[hidden] { display: none !important; }` so we also need the `!important` here to be able to override the default hidden behavior on the sphinx rendered scikit-learn.org. See: https://github.com/scikit-learn/scikit-learn/issues/21755 */display: inline-block !important;position: relative;}#sk-container-id-4 div.sk-text-repr-fallback {display: none;}</style><div id=\"sk-container-id-4\" class=\"sk-top-container\"><div class=\"sk-text-repr-fallback\"><pre>LinearRegression()</pre><b>In a Jupyter environment, please rerun this cell to show the HTML representation or trust the notebook. <br />On GitHub, the HTML representation is unable to render, please try loading this page with nbviewer.org.</b></div><div class=\"sk-container\" hidden><div class=\"sk-item\"><div class=\"sk-estimator sk-toggleable\"><input class=\"sk-toggleable__control sk-hidden--visually\" id=\"sk-estimator-id-6\" type=\"checkbox\" checked><label for=\"sk-estimator-id-6\" class=\"sk-toggleable__label sk-toggleable__label-arrow\">LinearRegression</label><div class=\"sk-toggleable__content\"><pre>LinearRegression()</pre></div></div></div></div></div>"
            ],
            "text/plain": [
              "LinearRegression()"
            ]
          },
          "execution_count": 44,
          "metadata": {},
          "output_type": "execute_result"
        }
      ],
      "source": [
        "from sklearn.linear_model import LinearRegression\n",
        "\n",
        "lin_reg = LinearRegression()\n",
        "lin_reg.fit(housing_prepared,housing_labels)"
      ]
    },
    {
      "cell_type": "markdown",
      "metadata": {
        "id": "_nDxOY7GmTNc"
      },
      "source": [
        "# First try it out on a few instances from the training set:\n"
      ]
    },
    {
      "cell_type": "code",
      "execution_count": 45,
      "metadata": {
        "id": "7Lx7VQm7pwSQ"
      },
      "outputs": [],
      "source": [
        "some_data = housing.iloc[:5]\n",
        "some_labels = housing_labels.iloc[:5]"
      ]
    },
    {
      "cell_type": "code",
      "execution_count": 46,
      "metadata": {
        "colab": {
          "base_uri": "https://localhost:8080/"
        },
        "id": "BU-ynaaIpYHO",
        "outputId": "90051496-79ad-48dd-bc74-68f61be9b00e"
      },
      "outputs": [
        {
          "name": "stdout",
          "output_type": "stream",
          "text": [
            "predictions :  [181746.54359616 290558.74973505 244957.50017771 146498.51061398\n",
            " 163230.42393939]\n",
            "Labels :  [103000.0, 382100.0, 172600.0, 93400.0, 96500.0]\n"
          ]
        }
      ],
      "source": [
        "some_data_prepared = full_pipeline.transform(some_data)\n",
        "print('predictions : ', lin_reg.predict(some_data_prepared))\n",
        "print('Labels : ', list(some_labels))"
      ]
    },
    {
      "cell_type": "markdown",
      "metadata": {
        "id": "QjmwxoU-qFnb"
      },
      "source": [
        "# measure this regression model’s RMSE on the whole training set\n",
        "* sing Scikit-Learn’s mean_squared_error() function:"
      ]
    },
    {
      "cell_type": "code",
      "execution_count": 47,
      "metadata": {
        "id": "rczx22dFqRMc"
      },
      "outputs": [],
      "source": [
        "from sklearn.metrics import mean_squared_error"
      ]
    },
    {
      "cell_type": "code",
      "execution_count": 48,
      "metadata": {
        "colab": {
          "base_uri": "https://localhost:8080/"
        },
        "id": "aCYZh9ExqWMJ",
        "outputId": "d904217d-b7c0-4bed-cae3-3af6344d16f4"
      },
      "outputs": [
        {
          "data": {
            "text/plain": [
              "67593.20745775253"
            ]
          },
          "execution_count": 48,
          "metadata": {},
          "output_type": "execute_result"
        }
      ],
      "source": [
        "# CODE HERE\n",
        "housing_predictions = lin_reg.predict(housing_prepared)\n",
        "lin_rmse = mean_squared_error(housing_labels, housing_predictions, squared = False)\n",
        "lin_rmse"
      ]
    },
    {
      "cell_type": "markdown",
      "metadata": {
        "id": "RLsKfuQpcfyx"
      },
      "source": [
        "# judge on the RMSE result for this model\n",
        "write down your answar"
      ]
    },
    {
      "cell_type": "markdown",
      "metadata": {
        "id": "qww9gICikVjp"
      },
      "source": []
    },
    {
      "cell_type": "markdown",
      "metadata": {
        "id": "J9KwPB-amNcw"
      },
      "source": [
        "most district 'median_houseing_value' range between $14999 and $500001, so a typical prediction error of $67593 is not very satisfying. This is because an under fitting occurred"
      ]
    },
    {
      "cell_type": "markdown",
      "metadata": {
        "id": "nnBVcR-MeFqa"
      },
      "source": [
        "your answer goes here"
      ]
    },
    {
      "cell_type": "markdown",
      "metadata": {
        "id": "vImNak3CqqFo"
      },
      "source": [
        "# Let’s train a Decision Tree Regressor model\n",
        "## more powerful model"
      ]
    },
    {
      "cell_type": "code",
      "execution_count": 49,
      "metadata": {
        "id": "8syfCBveqY2q"
      },
      "outputs": [],
      "source": [
        "from sklearn.tree import DecisionTreeRegressor"
      ]
    },
    {
      "cell_type": "code",
      "execution_count": 50,
      "metadata": {
        "colab": {
          "base_uri": "https://localhost:8080/",
          "height": 74
        },
        "id": "vrUPZzBhq-do",
        "outputId": "41129dc2-1d66-452e-ce2b-cc7c2b4ffacc"
      },
      "outputs": [
        {
          "data": {
            "text/html": [
              "<style>#sk-container-id-5 {color: black;background-color: white;}#sk-container-id-5 pre{padding: 0;}#sk-container-id-5 div.sk-toggleable {background-color: white;}#sk-container-id-5 label.sk-toggleable__label {cursor: pointer;display: block;width: 100%;margin-bottom: 0;padding: 0.3em;box-sizing: border-box;text-align: center;}#sk-container-id-5 label.sk-toggleable__label-arrow:before {content: \"▸\";float: left;margin-right: 0.25em;color: #696969;}#sk-container-id-5 label.sk-toggleable__label-arrow:hover:before {color: black;}#sk-container-id-5 div.sk-estimator:hover label.sk-toggleable__label-arrow:before {color: black;}#sk-container-id-5 div.sk-toggleable__content {max-height: 0;max-width: 0;overflow: hidden;text-align: left;background-color: #f0f8ff;}#sk-container-id-5 div.sk-toggleable__content pre {margin: 0.2em;color: black;border-radius: 0.25em;background-color: #f0f8ff;}#sk-container-id-5 input.sk-toggleable__control:checked~div.sk-toggleable__content {max-height: 200px;max-width: 100%;overflow: auto;}#sk-container-id-5 input.sk-toggleable__control:checked~label.sk-toggleable__label-arrow:before {content: \"▾\";}#sk-container-id-5 div.sk-estimator input.sk-toggleable__control:checked~label.sk-toggleable__label {background-color: #d4ebff;}#sk-container-id-5 div.sk-label input.sk-toggleable__control:checked~label.sk-toggleable__label {background-color: #d4ebff;}#sk-container-id-5 input.sk-hidden--visually {border: 0;clip: rect(1px 1px 1px 1px);clip: rect(1px, 1px, 1px, 1px);height: 1px;margin: -1px;overflow: hidden;padding: 0;position: absolute;width: 1px;}#sk-container-id-5 div.sk-estimator {font-family: monospace;background-color: #f0f8ff;border: 1px dotted black;border-radius: 0.25em;box-sizing: border-box;margin-bottom: 0.5em;}#sk-container-id-5 div.sk-estimator:hover {background-color: #d4ebff;}#sk-container-id-5 div.sk-parallel-item::after {content: \"\";width: 100%;border-bottom: 1px solid gray;flex-grow: 1;}#sk-container-id-5 div.sk-label:hover label.sk-toggleable__label {background-color: #d4ebff;}#sk-container-id-5 div.sk-serial::before {content: \"\";position: absolute;border-left: 1px solid gray;box-sizing: border-box;top: 0;bottom: 0;left: 50%;z-index: 0;}#sk-container-id-5 div.sk-serial {display: flex;flex-direction: column;align-items: center;background-color: white;padding-right: 0.2em;padding-left: 0.2em;position: relative;}#sk-container-id-5 div.sk-item {position: relative;z-index: 1;}#sk-container-id-5 div.sk-parallel {display: flex;align-items: stretch;justify-content: center;background-color: white;position: relative;}#sk-container-id-5 div.sk-item::before, #sk-container-id-5 div.sk-parallel-item::before {content: \"\";position: absolute;border-left: 1px solid gray;box-sizing: border-box;top: 0;bottom: 0;left: 50%;z-index: -1;}#sk-container-id-5 div.sk-parallel-item {display: flex;flex-direction: column;z-index: 1;position: relative;background-color: white;}#sk-container-id-5 div.sk-parallel-item:first-child::after {align-self: flex-end;width: 50%;}#sk-container-id-5 div.sk-parallel-item:last-child::after {align-self: flex-start;width: 50%;}#sk-container-id-5 div.sk-parallel-item:only-child::after {width: 0;}#sk-container-id-5 div.sk-dashed-wrapped {border: 1px dashed gray;margin: 0 0.4em 0.5em 0.4em;box-sizing: border-box;padding-bottom: 0.4em;background-color: white;}#sk-container-id-5 div.sk-label label {font-family: monospace;font-weight: bold;display: inline-block;line-height: 1.2em;}#sk-container-id-5 div.sk-label-container {text-align: center;}#sk-container-id-5 div.sk-container {/* jupyter's `normalize.less` sets `[hidden] { display: none; }` but bootstrap.min.css set `[hidden] { display: none !important; }` so we also need the `!important` here to be able to override the default hidden behavior on the sphinx rendered scikit-learn.org. See: https://github.com/scikit-learn/scikit-learn/issues/21755 */display: inline-block !important;position: relative;}#sk-container-id-5 div.sk-text-repr-fallback {display: none;}</style><div id=\"sk-container-id-5\" class=\"sk-top-container\"><div class=\"sk-text-repr-fallback\"><pre>DecisionTreeRegressor()</pre><b>In a Jupyter environment, please rerun this cell to show the HTML representation or trust the notebook. <br />On GitHub, the HTML representation is unable to render, please try loading this page with nbviewer.org.</b></div><div class=\"sk-container\" hidden><div class=\"sk-item\"><div class=\"sk-estimator sk-toggleable\"><input class=\"sk-toggleable__control sk-hidden--visually\" id=\"sk-estimator-id-7\" type=\"checkbox\" checked><label for=\"sk-estimator-id-7\" class=\"sk-toggleable__label sk-toggleable__label-arrow\">DecisionTreeRegressor</label><div class=\"sk-toggleable__content\"><pre>DecisionTreeRegressor()</pre></div></div></div></div></div>"
            ],
            "text/plain": [
              "DecisionTreeRegressor()"
            ]
          },
          "execution_count": 50,
          "metadata": {},
          "output_type": "execute_result"
        }
      ],
      "source": [
        "# CODE HERE\n",
        "tree_reg = DecisionTreeRegressor()\n",
        "tree_reg.fit(housing_prepared,housing_labels)"
      ]
    },
    {
      "cell_type": "markdown",
      "metadata": {
        "id": "kRhxYj0Aq9op"
      },
      "source": [
        "# Now evaluate the model on the training set\n",
        "* using Scikit-Learn’s mean_squared_error() function:"
      ]
    },
    {
      "cell_type": "code",
      "execution_count": 51,
      "metadata": {
        "colab": {
          "base_uri": "https://localhost:8080/"
        },
        "id": "DYCxUSCkrNIY",
        "outputId": "52603b5a-9902-437e-e59e-85b675bccd8f"
      },
      "outputs": [
        {
          "data": {
            "text/plain": [
              "0.0"
            ]
          },
          "execution_count": 51,
          "metadata": {},
          "output_type": "execute_result"
        }
      ],
      "source": [
        "# CODE HERE\n",
        "housing_predictions = tree_reg.predict(housing_prepared)\n",
        "tree_mse = mean_squared_error(housing_labels,housing_predictions)\n",
        "tree_rmse = np.sqrt(tree_mse)\n",
        "tree_rmse"
      ]
    },
    {
      "cell_type": "markdown",
      "metadata": {
        "id": "CSxXI9b8iZPs"
      },
      "source": [
        "# Explaine this result\n",
        "write down your answar"
      ]
    },
    {
      "cell_type": "markdown",
      "metadata": {
        "id": "BVSMQ7kbiZSi"
      },
      "source": [
        "your answer goes here"
      ]
    },
    {
      "cell_type": "markdown",
      "metadata": {
        "id": "rj7b4zSPrdyH"
      },
      "source": [
        "# Evaluation Using Cross-Validation\n",
        "\n",
        "1-split the training set into 10 distinct subsets then train and evaluate the Decision Tree model"
      ]
    },
    {
      "cell_type": "code",
      "execution_count": 52,
      "metadata": {
        "id": "JmNrgsBrwIe3"
      },
      "outputs": [],
      "source": [
        "from sklearn.model_selection import cross_val_score"
      ]
    },
    {
      "cell_type": "code",
      "execution_count": 53,
      "metadata": {
        "id": "yXNPsWjcwMd_"
      },
      "outputs": [],
      "source": [
        "# CODE HERE\n",
        "from sklearn.model_selection import cross_val_score\n",
        "\n",
        "scores = cross_val_score(tree_reg, housing_prepared, housing_labels, scoring =\"neg_mean_squared_error\",cv = 10)\n",
        "tree_rmse_scores = np.sqrt(-scores)"
      ]
    },
    {
      "cell_type": "markdown",
      "metadata": {
        "id": "KqReIY3urLP8"
      },
      "source": [
        "2- display the resultant scores and calculate its Mean and Standard deviation"
      ]
    },
    {
      "cell_type": "code",
      "execution_count": 54,
      "metadata": {
        "colab": {
          "base_uri": "https://localhost:8080/"
        },
        "id": "1g8jIq-6raVF",
        "outputId": "17db2b08-935b-46ef-db97-f2c403ab031a"
      },
      "outputs": [
        {
          "name": "stdout",
          "output_type": "stream",
          "text": [
            "Scores:  [65705.70001763 69944.32536591 69763.499016   69383.01210253\n",
            " 73060.03836308 67636.59586247 66894.16029761 69558.59734501\n",
            " 67943.03506504 69712.07229675]\n",
            "Mean:  68960.10357320502\n",
            "Standard Deviation:  1927.9904192563984\n"
          ]
        }
      ],
      "source": [
        "# CODE HERE\n",
        "def display_scores(scores):\n",
        "    print(\"Scores: \", scores)\n",
        "    print(\"Mean: \", scores.mean())\n",
        "    print(\"Standard Deviation: \", scores.std())\n",
        "display_scores(tree_rmse_scores)"
      ]
    },
    {
      "cell_type": "markdown",
      "metadata": {
        "id": "G6paGk_hsGGY"
      },
      "source": [
        "3-repaet the same steps to compute the same scores for the Linear Regression  model\n",
        "\n",
        "*notice the difference between the results of the two models*"
      ]
    },
    {
      "cell_type": "code",
      "execution_count": 55,
      "metadata": {
        "colab": {
          "base_uri": "https://localhost:8080/"
        },
        "id": "ol3C6DmusWfx",
        "outputId": "4847dc8a-cab5-4479-b7f6-42d6f45b3566"
      },
      "outputs": [
        {
          "name": "stdout",
          "output_type": "stream",
          "text": [
            "Scores:  [65000.67382615 70960.56056304 67122.63935124 66089.63153865\n",
            " 68402.54686442 65266.34735288 65218.78174481 68525.46981754\n",
            " 72739.87555996 68957.34111906]\n",
            "Mean:  67828.38677377408\n",
            "Standard Deviation:  2468.0913950652275\n"
          ]
        }
      ],
      "source": [
        "# CODE HERE\n",
        "scores = cross_val_score(lin_reg, housing_prepared, housing_labels, scoring =\"neg_mean_squared_error\",cv = 10)\n",
        "lin_reg_scores = np.sqrt(-scores)\n",
        "display_scores(lin_reg_scores)"
      ]
    },
    {
      "cell_type": "markdown",
      "metadata": {
        "id": "WekBxo2yg95n"
      },
      "source": [
        "Let's say there is no difference between linear regression and the Decision Tree, The error is considered equal.\n"
      ]
    },
    {
      "cell_type": "markdown",
      "metadata": {
        "id": "fdQ85uTEtDy1"
      },
      "source": [
        "## Let’s train one last model the RandomForestRegressor."
      ]
    },
    {
      "cell_type": "code",
      "execution_count": 56,
      "metadata": {
        "colab": {
          "base_uri": "https://localhost:8080/"
        },
        "id": "O1PPFq5TtdDP",
        "outputId": "cfd17c88-7342-476a-aedc-1ad76c4e43b9"
      },
      "outputs": [
        {
          "data": {
            "text/plain": [
              "18527.322990316152"
            ]
          },
          "execution_count": 56,
          "metadata": {},
          "output_type": "execute_result"
        }
      ],
      "source": [
        "# CODE HERE\n",
        "from sklearn.ensemble import RandomForestRegressor\n",
        "forest_reg = RandomForestRegressor(n_estimators = 100, random_state = 42)\n",
        "forest_reg.fit(housing_prepared, housing_labels)\n",
        "housing_predictions = forest_reg.predict(housing_prepared)\n",
        "forest_mse = mean_squared_error(housing_labels, housing_predictions)\n",
        "forest_rmse = np.sqrt(forest_mse)\n",
        "forest_rmse\n"
      ]
    },
    {
      "cell_type": "markdown",
      "metadata": {
        "id": "gSxaBthCtw93"
      },
      "source": [
        "# repeat the same steps to compute the same scores its Mean and Standard deviation for the Random Forest model"
      ]
    },
    {
      "cell_type": "code",
      "execution_count": 57,
      "metadata": {
        "colab": {
          "base_uri": "https://localhost:8080/"
        },
        "id": "AAc2MOQwt2lC",
        "outputId": "fada6812-6919-4b17-cef2-51910091e36f"
      },
      "outputs": [
        {
          "name": "stdout",
          "output_type": "stream",
          "text": [
            "Scores:  [47341.96931397 51653.53070248 49360.29148883 51625.62777032\n",
            " 52771.91063892 46989.97118038 47333.72603398 50636.24303693\n",
            " 48951.73251683 50183.60590465]\n",
            "Mean:  49684.86085873057\n",
            "Standard Deviation:  1929.9797084102233\n"
          ]
        }
      ],
      "source": [
        "# CODE HERE\n",
        "forest_scores = cross_val_score(forest_reg, housing_prepared, housing_labels,scoring = \"neg_mean_squared_error\", cv = 10)\n",
        "forest_rmse_scores = np.sqrt(-forest_scores)\n",
        "display_scores(forest_rmse_scores)"
      ]
    },
    {
      "cell_type": "markdown",
      "metadata": {
        "id": "Vn2u9DOxvE5S"
      },
      "source": [
        "# Save every model you experiment with\n",
        "*using the joblib library*"
      ]
    },
    {
      "cell_type": "code",
      "execution_count": 58,
      "metadata": {
        "id": "mWyIi3mtva85"
      },
      "outputs": [],
      "source": [
        "# CODE HERE\n",
        "import joblib\n",
        "joblib.dump(forest_reg, \"housing_model.pkl\")\n",
        "loaded_model = joblib.load(\"housing_model.pkl\")"
      ]
    },
    {
      "cell_type": "markdown",
      "metadata": {
        "id": "gIC6O-h0wOBJ"
      },
      "source": [
        "## now you have a shortlist of promising models. You now need to\n",
        "## fine-tune them!\n",
        "# Fine-Tune Your Model\n",
        "\n",
        "## 1- Grid Search\n",
        "## evaluate all the possible combinations of hyperparameter values for the RandomForestRegressor\n",
        "*It may take a long time*"
      ]
    },
    {
      "cell_type": "code",
      "execution_count": 59,
      "metadata": {
        "id": "Y8Wqd-Pix3Sm"
      },
      "outputs": [],
      "source": [
        "from sklearn.model_selection import GridSearchCV"
      ]
    },
    {
      "cell_type": "code",
      "execution_count": 60,
      "metadata": {
        "colab": {
          "base_uri": "https://localhost:8080/",
          "height": 115
        },
        "id": "j-zNvGLhyGGb",
        "outputId": "69b85b06-c152-45d6-9351-412fb557d8ca"
      },
      "outputs": [
        {
          "data": {
            "text/html": [
              "<style>#sk-container-id-6 {color: black;background-color: white;}#sk-container-id-6 pre{padding: 0;}#sk-container-id-6 div.sk-toggleable {background-color: white;}#sk-container-id-6 label.sk-toggleable__label {cursor: pointer;display: block;width: 100%;margin-bottom: 0;padding: 0.3em;box-sizing: border-box;text-align: center;}#sk-container-id-6 label.sk-toggleable__label-arrow:before {content: \"▸\";float: left;margin-right: 0.25em;color: #696969;}#sk-container-id-6 label.sk-toggleable__label-arrow:hover:before {color: black;}#sk-container-id-6 div.sk-estimator:hover label.sk-toggleable__label-arrow:before {color: black;}#sk-container-id-6 div.sk-toggleable__content {max-height: 0;max-width: 0;overflow: hidden;text-align: left;background-color: #f0f8ff;}#sk-container-id-6 div.sk-toggleable__content pre {margin: 0.2em;color: black;border-radius: 0.25em;background-color: #f0f8ff;}#sk-container-id-6 input.sk-toggleable__control:checked~div.sk-toggleable__content {max-height: 200px;max-width: 100%;overflow: auto;}#sk-container-id-6 input.sk-toggleable__control:checked~label.sk-toggleable__label-arrow:before {content: \"▾\";}#sk-container-id-6 div.sk-estimator input.sk-toggleable__control:checked~label.sk-toggleable__label {background-color: #d4ebff;}#sk-container-id-6 div.sk-label input.sk-toggleable__control:checked~label.sk-toggleable__label {background-color: #d4ebff;}#sk-container-id-6 input.sk-hidden--visually {border: 0;clip: rect(1px 1px 1px 1px);clip: rect(1px, 1px, 1px, 1px);height: 1px;margin: -1px;overflow: hidden;padding: 0;position: absolute;width: 1px;}#sk-container-id-6 div.sk-estimator {font-family: monospace;background-color: #f0f8ff;border: 1px dotted black;border-radius: 0.25em;box-sizing: border-box;margin-bottom: 0.5em;}#sk-container-id-6 div.sk-estimator:hover {background-color: #d4ebff;}#sk-container-id-6 div.sk-parallel-item::after {content: \"\";width: 100%;border-bottom: 1px solid gray;flex-grow: 1;}#sk-container-id-6 div.sk-label:hover label.sk-toggleable__label {background-color: #d4ebff;}#sk-container-id-6 div.sk-serial::before {content: \"\";position: absolute;border-left: 1px solid gray;box-sizing: border-box;top: 0;bottom: 0;left: 50%;z-index: 0;}#sk-container-id-6 div.sk-serial {display: flex;flex-direction: column;align-items: center;background-color: white;padding-right: 0.2em;padding-left: 0.2em;position: relative;}#sk-container-id-6 div.sk-item {position: relative;z-index: 1;}#sk-container-id-6 div.sk-parallel {display: flex;align-items: stretch;justify-content: center;background-color: white;position: relative;}#sk-container-id-6 div.sk-item::before, #sk-container-id-6 div.sk-parallel-item::before {content: \"\";position: absolute;border-left: 1px solid gray;box-sizing: border-box;top: 0;bottom: 0;left: 50%;z-index: -1;}#sk-container-id-6 div.sk-parallel-item {display: flex;flex-direction: column;z-index: 1;position: relative;background-color: white;}#sk-container-id-6 div.sk-parallel-item:first-child::after {align-self: flex-end;width: 50%;}#sk-container-id-6 div.sk-parallel-item:last-child::after {align-self: flex-start;width: 50%;}#sk-container-id-6 div.sk-parallel-item:only-child::after {width: 0;}#sk-container-id-6 div.sk-dashed-wrapped {border: 1px dashed gray;margin: 0 0.4em 0.5em 0.4em;box-sizing: border-box;padding-bottom: 0.4em;background-color: white;}#sk-container-id-6 div.sk-label label {font-family: monospace;font-weight: bold;display: inline-block;line-height: 1.2em;}#sk-container-id-6 div.sk-label-container {text-align: center;}#sk-container-id-6 div.sk-container {/* jupyter's `normalize.less` sets `[hidden] { display: none; }` but bootstrap.min.css set `[hidden] { display: none !important; }` so we also need the `!important` here to be able to override the default hidden behavior on the sphinx rendered scikit-learn.org. See: https://github.com/scikit-learn/scikit-learn/issues/21755 */display: inline-block !important;position: relative;}#sk-container-id-6 div.sk-text-repr-fallback {display: none;}</style><div id=\"sk-container-id-6\" class=\"sk-top-container\"><div class=\"sk-text-repr-fallback\"><pre>GridSearchCV(cv=5, estimator=RandomForestRegressor(random_state=42),\n",
              "             param_grid=[{&#x27;max_features&#x27;: [2, 4, 6, 8],\n",
              "                          &#x27;n_estimators&#x27;: [3, 10, 30]},\n",
              "                         {&#x27;bootstrap&#x27;: [False], &#x27;max_features&#x27;: [2, 3, 4],\n",
              "                          &#x27;n_estimators&#x27;: [3, 10]}],\n",
              "             return_train_score=True, scoring=&#x27;neg_mean_squared_error&#x27;)</pre><b>In a Jupyter environment, please rerun this cell to show the HTML representation or trust the notebook. <br />On GitHub, the HTML representation is unable to render, please try loading this page with nbviewer.org.</b></div><div class=\"sk-container\" hidden><div class=\"sk-item sk-dashed-wrapped\"><div class=\"sk-label-container\"><div class=\"sk-label sk-toggleable\"><input class=\"sk-toggleable__control sk-hidden--visually\" id=\"sk-estimator-id-8\" type=\"checkbox\" ><label for=\"sk-estimator-id-8\" class=\"sk-toggleable__label sk-toggleable__label-arrow\">GridSearchCV</label><div class=\"sk-toggleable__content\"><pre>GridSearchCV(cv=5, estimator=RandomForestRegressor(random_state=42),\n",
              "             param_grid=[{&#x27;max_features&#x27;: [2, 4, 6, 8],\n",
              "                          &#x27;n_estimators&#x27;: [3, 10, 30]},\n",
              "                         {&#x27;bootstrap&#x27;: [False], &#x27;max_features&#x27;: [2, 3, 4],\n",
              "                          &#x27;n_estimators&#x27;: [3, 10]}],\n",
              "             return_train_score=True, scoring=&#x27;neg_mean_squared_error&#x27;)</pre></div></div></div><div class=\"sk-parallel\"><div class=\"sk-parallel-item\"><div class=\"sk-item\"><div class=\"sk-label-container\"><div class=\"sk-label sk-toggleable\"><input class=\"sk-toggleable__control sk-hidden--visually\" id=\"sk-estimator-id-9\" type=\"checkbox\" ><label for=\"sk-estimator-id-9\" class=\"sk-toggleable__label sk-toggleable__label-arrow\">estimator: RandomForestRegressor</label><div class=\"sk-toggleable__content\"><pre>RandomForestRegressor(random_state=42)</pre></div></div></div><div class=\"sk-serial\"><div class=\"sk-item\"><div class=\"sk-estimator sk-toggleable\"><input class=\"sk-toggleable__control sk-hidden--visually\" id=\"sk-estimator-id-10\" type=\"checkbox\" ><label for=\"sk-estimator-id-10\" class=\"sk-toggleable__label sk-toggleable__label-arrow\">RandomForestRegressor</label><div class=\"sk-toggleable__content\"><pre>RandomForestRegressor(random_state=42)</pre></div></div></div></div></div></div></div></div></div></div>"
            ],
            "text/plain": [
              "GridSearchCV(cv=5, estimator=RandomForestRegressor(random_state=42),\n",
              "             param_grid=[{'max_features': [2, 4, 6, 8],\n",
              "                          'n_estimators': [3, 10, 30]},\n",
              "                         {'bootstrap': [False], 'max_features': [2, 3, 4],\n",
              "                          'n_estimators': [3, 10]}],\n",
              "             return_train_score=True, scoring='neg_mean_squared_error')"
            ]
          },
          "execution_count": 60,
          "metadata": {},
          "output_type": "execute_result"
        }
      ],
      "source": [
        "# CODE HERE\n",
        "param_grid = [\n",
        "              {'n_estimators': [3,10,30], 'max_features':[2,4,6,8]},\n",
        "              {'bootstrap':[False], 'max_features':[2,3,4],'n_estimators':[3,10]}\n",
        "]\n",
        "forest_reg = RandomForestRegressor(random_state = 42)\n",
        "\n",
        "grid_search = GridSearchCV(forest_reg,param_grid,cv = 5,\n",
        "                           scoring = 'neg_mean_squared_error',\n",
        "                           return_train_score = True)\n",
        "grid_search.fit(housing_prepared, housing_labels)"
      ]
    },
    {
      "cell_type": "markdown",
      "metadata": {
        "id": "EhYbsAnE0j75"
      },
      "source": [
        "with the evaluation scores"
      ]
    },
    {
      "cell_type": "code",
      "execution_count": 61,
      "metadata": {
        "colab": {
          "base_uri": "https://localhost:8080/"
        },
        "id": "qhDCrx0Y0ocN",
        "outputId": "8b0ff9f4-9d43-422c-d6d1-0535423a462c"
      },
      "outputs": [
        {
          "name": "stdout",
          "output_type": "stream",
          "text": [
            "64878.27480854276 {'max_features': 2, 'n_estimators': 3}\n",
            "55391.003575336406 {'max_features': 2, 'n_estimators': 10}\n",
            "52721.66494842234 {'max_features': 2, 'n_estimators': 30}\n",
            "58541.12715494087 {'max_features': 4, 'n_estimators': 3}\n",
            "51623.59366665994 {'max_features': 4, 'n_estimators': 10}\n",
            "49787.65951361993 {'max_features': 4, 'n_estimators': 30}\n",
            "58620.88234614251 {'max_features': 6, 'n_estimators': 3}\n",
            "51645.862673140065 {'max_features': 6, 'n_estimators': 10}\n",
            "49917.66994061786 {'max_features': 6, 'n_estimators': 30}\n",
            "58640.96129790229 {'max_features': 8, 'n_estimators': 3}\n",
            "51650.365581628095 {'max_features': 8, 'n_estimators': 10}\n",
            "49672.50940389753 {'max_features': 8, 'n_estimators': 30}\n",
            "61580.24110015614 {'bootstrap': False, 'max_features': 2, 'n_estimators': 3}\n",
            "53889.80996032937 {'bootstrap': False, 'max_features': 2, 'n_estimators': 10}\n",
            "58667.89389226964 {'bootstrap': False, 'max_features': 3, 'n_estimators': 3}\n",
            "52764.2630869393 {'bootstrap': False, 'max_features': 3, 'n_estimators': 10}\n",
            "58496.54315778315 {'bootstrap': False, 'max_features': 4, 'n_estimators': 3}\n",
            "51440.83147410301 {'bootstrap': False, 'max_features': 4, 'n_estimators': 10}\n"
          ]
        }
      ],
      "source": [
        "# CODE HERE\n",
        "cvres = grid_search.cv_results_\n",
        "\n",
        "for mean_score, params in zip(cvres[\"mean_test_score\"],cvres[\"params\"]):\n",
        "  print(np.sqrt(-mean_score), params)"
      ]
    },
    {
      "cell_type": "markdown",
      "metadata": {
        "id": "pjRCrlqEyH1A"
      },
      "source": [
        "# Analyze the Best Models and Their Errors\n",
        "1-indicate the relative importance of each attribute"
      ]
    },
    {
      "cell_type": "code",
      "execution_count": 62,
      "metadata": {
        "colab": {
          "base_uri": "https://localhost:8080/"
        },
        "id": "y2MkCD1Byh9F",
        "outputId": "eb0f21cd-213b-4205-f955-95c4f19ef5a1"
      },
      "outputs": [
        {
          "data": {
            "text/plain": [
              "array([6.840e-02, 6.490e-02, 4.170e-02, 1.450e-02, 1.370e-02, 1.430e-02,\n",
              "       1.300e-02, 3.718e-01, 4.950e-02, 1.098e-01, 6.120e-02, 7.400e-03,\n",
              "       1.650e-01, 2.000e-04, 1.800e-03, 2.700e-03])"
            ]
          },
          "execution_count": 62,
          "metadata": {},
          "output_type": "execute_result"
        }
      ],
      "source": [
        "# CODE HERE\n",
        "final_model = grid_search.best_estimator_\n",
        "feature_importances = final_model.feature_importances_\n",
        "feature_importances.round(4)"
      ]
    },
    {
      "cell_type": "markdown",
      "metadata": {
        "id": "b01L7mUm1xTV"
      },
      "source": [
        "2-display these importance scores next to their corresponding attribute names:"
      ]
    },
    {
      "cell_type": "code",
      "execution_count": 63,
      "metadata": {
        "colab": {
          "base_uri": "https://localhost:8080/"
        },
        "id": "dau43zXt14i7",
        "outputId": "9e7e27b1-ff20-4bdb-f11e-56acebd91af2"
      },
      "outputs": [
        {
          "data": {
            "text/plain": [
              "[(0.37183388814667373, 'median_income'),\n",
              " (0.16501259905352061,\n",
              "  array(['<1H OCEAN', 'INLAND', 'ISLAND', 'NEAR BAY', 'NEAR OCEAN'],\n",
              "        dtype=object)),\n",
              " (0.1097583570805625, 'population_per_household'),\n",
              " (0.06844933917056337, 'longitude'),\n",
              " (0.06491313404989336, 'latitude'),\n",
              " (0.061176949819538154, 'bedroom_per_room'),\n",
              " (0.04945029095965893, 'ocean_proximity'),\n",
              " (0.0417428332867604, 'housing_median_age'),\n",
              " (0.014515821649955954, 'total_rooms'),\n",
              " (0.014300165080528202, 'population'),\n",
              " (0.013706064997348836, 'total_bedrooms'),\n",
              " (0.012959133102106802, 'households'),\n",
              " (0.0073955403637295455, 'rooms_per_household')]"
            ]
          },
          "execution_count": 63,
          "metadata": {},
          "output_type": "execute_result"
        }
      ],
      "source": [
        "# CODE HERE\n",
        "housing_cat = housing[['ocean_proximity']]\n",
        "from sklearn.preprocessing import OneHotEncoder\n",
        "ohe = OneHotEncoder()\n",
        "ohe_housing = ohe.fit_transform(housing_cat)\n",
        "extra_attribs = [\"population_per_household\",\"bedroom_per_room\",\"rooms_per_household\"]\n",
        "num_attribs = list(train_set.drop([\"median_house_value\"],axis = 1).columns)\n",
        "cat_one_hot_attribs = list(ohe.categories_)\n",
        "attributes = num_attribs + extra_attribs + cat_one_hot_attribs\n",
        "sorted(zip(feature_importances,attributes),reverse = True)"
      ]
    },
    {
      "cell_type": "code",
      "execution_count": 64,
      "metadata": {
        "id": "tdMgSxwtgq9O"
      },
      "outputs": [],
      "source": [
        "train_set_cat = train_set[['ocean_proximity']]\n",
        "test_set_cat = test_set[['ocean_proximity']]\n",
        "\n",
        "ohe_train = OneHotEncoder()\n",
        "ohe_test = OneHotEncoder()\n",
        "ohe_train_cat = ohe_train.fit_transform(train_set_cat)\n",
        "ohe_test_cat = ohe_test.fit_transform(test_set_cat)"
      ]
    },
    {
      "cell_type": "markdown",
      "metadata": {
        "id": "esOPiD6Pyice"
      },
      "source": [
        "## Now is the time to evaluate the final model on the test set.\n",
        "# Evaluate Your System on the Test Set\n",
        "\n",
        "1-get the predictors and the labels from your test set"
      ]
    },
    {
      "cell_type": "code",
      "execution_count": 76,
      "metadata": {
        "id": "ZrmGwOEyykad"
      },
      "outputs": [],
      "source": [
        "# CODE HERE\n",
        "X_test = test_set.drop(\"median_house_value\", axis=1)\n",
        "y_test = test_set[\"median_house_value\"].copy()"
      ]
    },
    {
      "cell_type": "markdown",
      "metadata": {
        "id": "lhkKu23G2yNd"
      },
      "source": [
        "2-run your full_pipeline to transform the data"
      ]
    },
    {
      "cell_type": "code",
      "execution_count": 77,
      "metadata": {
        "id": "VBfW1WG823TE"
      },
      "outputs": [],
      "source": [
        "# CODE HERE\n",
        "X_test_prepared = full_pipeline.transform(X_test)\n",
        "final_predictions = final_model.predict(X_test_prepared)"
      ]
    },
    {
      "cell_type": "markdown",
      "metadata": {
        "id": "hNVnMSJy28xt"
      },
      "source": [
        "3-evaluate the final model on the test set"
      ]
    },
    {
      "cell_type": "code",
      "execution_count": 78,
      "metadata": {
        "colab": {
          "base_uri": "https://localhost:8080/"
        },
        "id": "HrcgAUoy2_tc",
        "outputId": "096bbcaa-8fdf-4548-803a-e328c4c94591"
      },
      "outputs": [
        {
          "data": {
            "text/plain": [
              "49198.020631676336"
            ]
          },
          "execution_count": 78,
          "metadata": {},
          "output_type": "execute_result"
        }
      ],
      "source": [
        "# CODE HERE\n",
        "final_mse = mean_squared_error(y_test, final_predictions)\n",
        "final_rmse = np.sqrt(final_mse)\n",
        "final_rmse"
      ]
    },
    {
      "cell_type": "markdown",
      "metadata": {
        "id": "wYBxgnsx3Ipr"
      },
      "source": [
        "# compute a 95% confidence interval for the generalization error\n",
        "*using scipy.stats.t.interval():*"
      ]
    },
    {
      "cell_type": "code",
      "execution_count": 79,
      "metadata": {
        "id": "ngWpgPrE3NaS"
      },
      "outputs": [],
      "source": [
        "from scipy import stats"
      ]
    },
    {
      "cell_type": "code",
      "execution_count": 80,
      "metadata": {
        "colab": {
          "base_uri": "https://localhost:8080/"
        },
        "id": "6RFaMou83WBY",
        "outputId": "160c79bc-53c9-4f52-85c4-d1355ab58ac0"
      },
      "outputs": [
        {
          "data": {
            "text/plain": [
              "array([46948.10215126, 51349.4515311 ])"
            ]
          },
          "execution_count": 80,
          "metadata": {},
          "output_type": "execute_result"
        }
      ],
      "source": [
        "# CODE HERE\n",
        "confidence = 0.95\n",
        "squared_errors = (final_predictions - y_test) ** 2\n",
        "np.sqrt(stats.t.interval(confidence, len(squared_errors) - 1,\n",
        "                         loc=squared_errors.mean(),\n",
        "                         scale=stats.sem(squared_errors)))"
      ]
    },
    {
      "cell_type": "markdown",
      "metadata": {
        "id": "fTsy6N8Uytpo"
      },
      "source": [
        "# Great Job!\n",
        "# #shAI_Club"
      ]
    }
  ],
  "metadata": {
    "colab": {
      "provenance": []
    },
    "kernelspec": {
      "display_name": "Python 3",
      "language": "python",
      "name": "python3"
    },
    "language_info": {
      "codemirror_mode": {
        "name": "ipython",
        "version": 3
      },
      "file_extension": ".py",
      "mimetype": "text/x-python",
      "name": "python",
      "nbconvert_exporter": "python",
      "pygments_lexer": "ipython3",
      "version": "3.7.9"
    }
  },
  "nbformat": 4,
  "nbformat_minor": 0
}
